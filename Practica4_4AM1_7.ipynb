{
 "cells": [
  {
   "cell_type": "code",
   "execution_count": 2,
   "metadata": {},
   "outputs": [],
   "source": [
    "import numpy as np\n",
    "import matplotlib.pyplot as plt\n",
    "import pandas as pd\n",
    "import time\n",
    "import os"
   ]
  },
  {
   "cell_type": "code",
   "execution_count": 11,
   "metadata": {},
   "outputs": [
    {
     "name": "stdout",
     "output_type": "stream",
     "text": [
      "Tiempo de creación para csv: 0.002438068389892578 segundos\n",
      "Tamaño del dataset csv en bytes: 22527\n",
      "Tiempo de creación para xlsx: 0.09664011001586914 segundos\n",
      "Tamaño del dataset xlsx en bytes: 29521\n",
      "Tiempo de creación para json: 0.0 segundos\n",
      "Tamaño del dataset json en bytes: 52997\n",
      "Tiempo de creación para xml: 0.02515435218811035 segundos\n",
      "Tamaño del dataset xml en bytes: 268384\n",
      "Tiempo de creación para tsv: 0.007507801055908203 segundos\n",
      "Tamaño del dataset tsv en bytes: 22527\n",
      "Tiempo de creación para hdf: 0.020580291748046875 segundos\n",
      "Tamaño del dataset hdf en bytes: 1104392\n",
      "Formato no valido\n",
      "Formato no valido\n",
      "Tiempo de creación para h5: 0.0 segundos\n",
      "Tamaño del dataset h5 en bytes: 1104392\n"
     ]
    }
   ],
   "source": [
    "def convertir_formato(dataset, formato: str):\n",
    "    # leer el nombre del dataset\n",
    "    formatos = ['csv', 'xlsx', 'json', 'hdf', 'xml', 'tsv']\n",
    "    if formato not in formatos:\n",
    "        print('Formato no valido')\n",
    "        return None\n",
    "    else:\n",
    "        if formato == 'xml':\n",
    "            dataset.columns = dataset.columns.str.replace(' ', '_').str.replace('.', '')\n",
    "            return dataset.to_xml('nuevo_dataset.xml')\n",
    "        if formato == 'csv':\n",
    "            return dataset.to_csv('nuevo_dataset.csv', index=False)\n",
    "        elif formato == 'xlsx':\n",
    "            return dataset.to_excel('nuevo_dataset.xlsx', index=False)\n",
    "        elif formato == 'json':\n",
    "            return dataset.to_json('nuevo_dataset.json')\n",
    "        elif formato == 'hdf':\n",
    "            return dataset.to_hdf('nuevo_dataset.hdf', key='data', mode='w')\n",
    "        elif formato == 'tsv':\n",
    "            return dataset.to_csv('nuevo_dataset.tsv', sep='\\t', index=False)\n",
    "\n",
    "# esta funcion retorna el tamano del dataset en bytes\n",
    "def tamano_dataset(dataset):\n",
    "    return os.path.getsize(dataset)\n",
    "\n",
    "# midiendo el tiempo de creacion de un dataset\n",
    "def tiempo_creacion(dataset, formato) -> float:\n",
    "    start_time = time.time()\n",
    "    convertir_formato(dataset, formato)\n",
    "    tiempo = time.time() - start_time\n",
    "    return tiempo\n",
    "\n",
    "# ejemplo de todos los formatos de salida y midiendo el tiempo de creacion como de tamano del dataset\n",
    "def ejemplo_formatos(dataset):\n",
    "    formatos = ['csv', 'xlsx', 'json', 'xml', 'tsv','hdf','h5']\n",
    "    for formato in formatos:\n",
    "        nuevo_dataset = convertir_formato(dataset, formato)\n",
    "        print(f'Tiempo de creación para {formato}: {tiempo_creacion(dataset, formato)} segundos')\n",
    "        if formato == 'csv' or formato == 'tsv':\n",
    "            extension = 'csv' if formato == 'csv' else 'tsv'\n",
    "            print(f'Tamaño del dataset {formato} en bytes: {tamano_dataset(f\"nuevo_dataset.{extension}\")}')\n",
    "        else:\n",
    "            print(f'Tamaño del dataset {formato} en bytes: {tamano_dataset(f\"nuevo_dataset.{formato}\")}')\n",
    "\n",
    "dataset = pd.read_csv('remote_work_productivity.csv')\n",
    "ejemplo_formatos(dataset)   \n"
   ]
  },
  {
   "cell_type": "markdown",
   "metadata": {},
   "source": [
    "Convertir los datasets seleccionados a cada uno de los formatos: CSV, TSV, HDF5,\n",
    "Excel, JSON y XML."
   ]
  },
  {
   "cell_type": "code",
   "execution_count": 10,
   "metadata": {},
   "outputs": [
    {
     "name": "stdout",
     "output_type": "stream",
     "text": [
      "vacio\n"
     ]
    },
    {
     "name": "stderr",
     "output_type": "stream",
     "text": [
      "C:\\Users\\Rulig\\AppData\\Local\\Temp\\ipykernel_8868\\483614087.py:13: PerformanceWarning: \n",
      "your performance may suffer as PyTables will pickle object types that it cannot\n",
      "map directly to c-types [inferred_type->mixed,key->block1_values] [items->Index(['Smoking_Habit', 'Drinking_Habit', 'Biking_Habit', 'Walking_Habit',\n",
      "       'Jogging_Habit'],\n",
      "      dtype='object')]\n",
      "\n",
      "  dataset5 = dataset.to_hdf('dataset.hdf', key='data', mode='w')\n"
     ]
    }
   ],
   "source": [
    "# Convertir el dataset a los diferentes formatos\n",
    "dataset = pd.read_csv('cancer-probabilities.csv')\n",
    "\n",
    "# Reemplazar caracteres invalidos en los nombres de las columnas\n",
    "dataset.columns = dataset.columns.str.replace(' ', '_').str.replace('.', '')\n",
    "\n",
    "dataset1 = dataset.to_csv('dataset.tsv', sep='\\t', index=False)\n",
    "if dataset1 is None:\n",
    "    print(\"vacio\")\n",
    "dataset2 = dataset.to_excel('dataset.xlsx', index=False)\n",
    "dataset3 = dataset.to_json('dataset.json')\n",
    "dataset4 = dataset.to_xml('dataset.xml')\n",
    "dataset5 = dataset.to_hdf('dataset.hdf', key='data', mode='w')\n",
    "dataset6 = dataset.to_csv('dataset.tsv', sep='\\t', index=False)\n"
   ]
  }
 ],
 "metadata": {
  "kernelspec": {
   "display_name": "Python 3",
   "language": "python",
   "name": "python3"
  },
  "language_info": {
   "codemirror_mode": {
    "name": "ipython",
    "version": 3
   },
   "file_extension": ".py",
   "mimetype": "text/x-python",
   "name": "python",
   "nbconvert_exporter": "python",
   "pygments_lexer": "ipython3",
   "version": "3.11.1"
  }
 },
 "nbformat": 4,
 "nbformat_minor": 2
}
