{
 "cells": [
  {
   "cell_type": "code",
   "execution_count": 40,
   "metadata": {},
   "outputs": [],
   "source": [
    "import numpy as np\n",
    "import matplotlib.pyplot as plt\n",
    "import pandas as pd\n",
    "import time\n",
    "import os"
   ]
  },
  {
   "cell_type": "code",
   "execution_count": 75,
   "metadata": {},
   "outputs": [
    {
     "name": "stdout",
     "output_type": "stream",
     "text": [
      "0.0145263671875\n",
      "1066232\n"
     ]
    },
    {
     "name": "stderr",
     "output_type": "stream",
     "text": [
      "C:\\Users\\Rulig\\AppData\\Local\\Temp\\ipykernel_12916\\456726514.py:17: PerformanceWarning: \n",
      "your performance may suffer as PyTables will pickle object types that it cannot\n",
      "map directly to c-types [inferred_type->mixed,key->block1_values] [items->Index(['Smoking Habit', 'Drinking Habit', 'Biking Habit', 'Walking Habit',\n",
      "       'Jogging Habit'],\n",
      "      dtype='object')]\n",
      "\n",
      "  return dataset.to_hdf('nuevo_dataset.h5', key='data', mode='w')\n"
     ]
    }
   ],
   "source": [
    "def parser_formato(dataset, paso_formato: str):\n",
    "    # leer el nombre del dataset\n",
    "    formatos = ['csv', 'xlsx', 'json', 'hdf', 'xml', 'tsv']\n",
    "    if paso_formato not in formatos:\n",
    "        print('Formato no valido')\n",
    "        return None\n",
    "    else:\n",
    "        if paso_formato == 'xml':\n",
    "            dataset.columns = dataset.columns.str.replace(' ', '_').str.replace('.', '')\n",
    "        if paso_formato == 'csv':\n",
    "            return dataset.to_csv('nuevo_dataset.csv', index=False)\n",
    "        elif paso_formato == 'xlsx':\n",
    "            return dataset.to_excel('nuevo_dataset.xlsx', index=False)\n",
    "        elif paso_formato == 'json':\n",
    "            return dataset.to_json('nuevo_dataset.json')\n",
    "        elif paso_formato == 'hdf':\n",
    "            return dataset.to_hdf('nuevo_dataset.h5', key='data', mode='w')\n",
    "        elif paso_formato == 'xml':\n",
    "            return dataset.to_xml('nuevo_dataset.xml')\n",
    "        elif paso_formato == 'tsv':\n",
    "            return dataset.to_csv('nuevo_dataset.tsv', sep='\\t', index=False)\n",
    "\n",
    "#esta funcion retorna el tamaño del dataset en bytes\n",
    "def tamano_dataset(dataset):\n",
    "    return os.path.getsize(dataset)\n",
    "\n",
    "#midiendo el tiempo de creacion de un dataset\n",
    "def tiempo_creacion(dataset, formato_paso)->float:\n",
    "    start_time = time.time()\n",
    "    parser_formato(dataset, formato_paso)\n",
    "    tiempo = time.time() - start_time\n",
    "    return tiempo\n",
    "#conversor universal de formatos\n",
    "\n",
    "# ejemplo\n",
    "dataset = pd.read_csv('cancer-probabilities.csv')\n",
    "nuevo_dataset = parser_formato(dataset, 'hdf')\n",
    "print(tiempo_creacion(dataset, 'hdf'))\n",
    "print(tamano_dataset('nuevo_dataset.h5'))\n"
   ]
  },
  {
   "cell_type": "markdown",
   "metadata": {},
   "source": [
    "Convertir los datasets seleccionados a cada uno de los formatos: CSV, TSV, HDF5,\n",
    "Excel, JSON y XML."
   ]
  },
  {
   "cell_type": "code",
   "execution_count": 13,
   "metadata": {},
   "outputs": [
    {
     "name": "stdout",
     "output_type": "stream",
     "text": [
      "vacio\n"
     ]
    },
    {
     "name": "stderr",
     "output_type": "stream",
     "text": [
      "C:\\Users\\Rulig\\AppData\\Local\\Temp\\ipykernel_25640\\4287847360.py:13: PerformanceWarning: \n",
      "your performance may suffer as PyTables will pickle object types that it cannot\n",
      "map directly to c-types [inferred_type->mixed,key->block1_values] [items->Index(['Smoking_Habit', 'Drinking_Habit', 'Biking_Habit', 'Walking_Habit',\n",
      "       'Jogging_Habit'],\n",
      "      dtype='object')]\n",
      "\n",
      "  dataset5 = dataset.to_hdf('dataset.hdf', key='data', mode='w')\n"
     ]
    }
   ],
   "source": [
    "# Convertir el dataset a los diferentes formatos\n",
    "dataset = pd.read_csv('cancer-probabilities.csv')\n",
    "\n",
    "# Replace invalid characters in column names\n",
    "dataset.columns = dataset.columns.str.replace(' ', '_').str.replace('.', '')\n",
    "\n",
    "dataset1 = dataset.to_csv('dataset.tsv', sep='\\t', index=False)\n",
    "if dataset1 is None:\n",
    "    print(\"vacio\")\n",
    "dataset2 = dataset.to_excel('dataset.xlsx', index=False)\n",
    "dataset3 = dataset.to_json('dataset.json')\n",
    "dataset4 = dataset.to_xml('dataset.xml')\n",
    "dataset5 = dataset.to_hdf('dataset.hdf', key='data', mode='w')\n",
    "dataset6 = dataset.to_csv('dataset.tsv', sep='\\t', index=False)\n"
   ]
  }
 ],
 "metadata": {
  "kernelspec": {
   "display_name": "Python 3",
   "language": "python",
   "name": "python3"
  },
  "language_info": {
   "codemirror_mode": {
    "name": "ipython",
    "version": 3
   },
   "file_extension": ".py",
   "mimetype": "text/x-python",
   "name": "python",
   "nbconvert_exporter": "python",
   "pygments_lexer": "ipython3",
   "version": "3.11.1"
  }
 },
 "nbformat": 4,
 "nbformat_minor": 2
}
