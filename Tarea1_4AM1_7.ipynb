{
 "cells": [
  {
   "cell_type": "markdown",
   "metadata": {},
   "source": [
    "# Tarea 1\n",
    "## Equipo 7\n",
    "![img](https://dm0qx8t0i9gc9.cloudfront.net/thumbnails/image/rDtN98Qoishumwih/japanese-background-vector-illustration_z1EjQ7Lu_thumb.jpg)\n",
    "\n",
    "| nombre | Apellido paterno | Apellido Materno |\n",
    "| --- | --- | --- |\n",
    "| Ulises Abdiel | Cabello | Cardenas |\n",
    "| Edgar Alejandro | Zuñiga | Cedillo |\n",
    "| Juan Carlos | Mendiola | Gomez |\n",
    "| Luis Gerardo | Ramoz | Garcia |"
   ]
  },
  {
   "cell_type": "markdown",
   "metadata": {},
   "source": [
    "### Ejercicio 7. Código Morse\n",
    "\n",
    "El código Morse es un sistema de codificación que utiliza puntos y guiones para representar letras y\n",
    "números. En este ejercicio, escribirás un programa que utiliza un diccionario para almacenar la\n",
    "asignación de cada letra y número a su correspondiente código Morse. Usa un punto (.) para\n",
    "representar un punto y un guion (-) para representar un guion. La siguiente Tabla muestra la\n",
    "correspondencia entre letras, números y sus códigos Morse.\n",
    "Tu programa debe leer un mensaje ingresado por el usuario y traducir cada letra y número del\n",
    "mensaje a código Morse, dejando un espacio entre cada secuencia de puntos y guiones. El programa\n",
    "debe ignorar cualquier carácter que no sea una letra o un número."
   ]
  },
  {
   "cell_type": "markdown",
   "metadata": {},
   "source": [
    "### Diccionario de código Morse."
   ]
  },
  {
   "cell_type": "code",
   "execution_count": 8,
   "metadata": {},
   "outputs": [],
   "source": [
    "dicc_morse = {\n",
    "    'A': '.-', 'B': '-...', 'C': '-.-.', 'D': '-..', 'E': '.', 'F': '..-.', \n",
    "    'G': '--.', 'H': '....', 'I': '..', 'J': '.---', 'K': '-.-', 'L': '.-..', \n",
    "    'M': '--', 'N': '-.', 'O': '---', 'P': '.--.', 'Q': '--.-', 'R': '.-.', \n",
    "    'S': '...', 'T': '-', 'U': '..-', 'V': '...-', 'W': '.--', 'X': '-..-', \n",
    "    'Y': '-.--', 'Z': '--..', '0': '-----', '1': '.----', '2': '..---', \n",
    "    '3': '...--', '4': '....-', '5': '.....', '6': '-....', '7': '--...', \n",
    "    '8': '---..', '9': '----.'\n",
    "}"
   ]
  },
  {
   "cell_type": "markdown",
   "metadata": {},
   "source": [
    "### Funcion de codificación"
   ]
  },
  {
   "cell_type": "code",
   "execution_count": 9,
   "metadata": {},
   "outputs": [],
   "source": [
    "def texto_a_morse(mensaje):\n",
    "\n",
    "    mensaje = mensaje.upper() #Mensaje a ayusculas\n",
    "    morse_code = [] #Lista para guardar la codificacion de cada letra\n",
    "    \n",
    "    # Recorrido de cada caracter\n",
    "    for char in mensaje:\n",
    "\n",
    "        if char in dicc_morse: #Se filtra solo el caracter que se encuentre en el diccionario (ignorando simbolos)\n",
    "            \n",
    "            morse_code.append(dicc_morse[char]) #Obtiene el codigo correspondiente y lo agrega a la lista\n",
    "\n",
    "    # Unimos los códigos Morse en una sola cadena\n",
    "    morse_cadena = ' '.join(morse_code)\n",
    "\n",
    "    return morse_cadena"
   ]
  },
  {
   "cell_type": "markdown",
   "metadata": {},
   "source": [
    "### Ejemplo"
   ]
  },
  {
   "cell_type": "code",
   "execution_count": 10,
   "metadata": {},
   "outputs": [
    {
     "name": "stdout",
     "output_type": "stream",
     "text": [
      "El mensaje en código Morse es: .... --- .-.. .-\n"
     ]
    }
   ],
   "source": [
    "text = input(\"Digita el texto que deseas convertir al codigo morse: \")\n",
    "\n",
    "mensaje_morse = texto_a_morse(text)\n",
    "print(f\"El mensaje en código Morse es: {mensaje_morse}\")\n"
   ]
  }
 ],
 "metadata": {
  "kernelspec": {
   "display_name": "Python 3",
   "language": "python",
   "name": "python3"
  },
  "language_info": {
   "codemirror_mode": {
    "name": "ipython",
    "version": 3
   },
   "file_extension": ".py",
   "mimetype": "text/x-python",
   "name": "python",
   "nbconvert_exporter": "python",
   "pygments_lexer": "ipython3",
   "version": "3.11.1"
  }
 },
 "nbformat": 4,
 "nbformat_minor": 2
}
